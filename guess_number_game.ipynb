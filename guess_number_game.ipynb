{
 "cells": [
  {
   "cell_type": "markdown",
   "metadata": {},
   "source": [
    "# Class"
   ]
  },
  {
   "cell_type": "code",
   "execution_count": 1,
   "metadata": {},
   "outputs": [],
   "source": [
    "import random\n",
    "\n",
    "def guess_number_game():\n",
    "    number_to_guess = random.randint(1, 100)\n",
    "    guesses = 0\n",
    "\n",
    "    while True:\n",
    "        try:\n",
    "            user_guess = int(input(\"Guess a number between 1 and 100: \"))\n",
    "            guesses += 1\n",
    "\n",
    "            if user_guess < number_to_guess:\n",
    "                print(\"Higher.\")\n",
    "            elif user_guess > number_to_guess:\n",
    "                print(\"Lower.\")\n",
    "            else:\n",
    "                print(f\"Correct! You guessed the number in {guesses} guesses.\")\n",
    "                break\n",
    "        except ValueError:\n",
    "            print(\"Please enter a valid number.\")"
   ]
  },
  {
   "cell_type": "markdown",
   "metadata": {},
   "source": [
    "# Come To Run Our Game"
   ]
  },
  {
   "cell_type": "code",
   "execution_count": 2,
   "metadata": {},
   "outputs": [
    {
     "name": "stdout",
     "output_type": "stream",
     "text": [
      "Higher.\n",
      "Lower.\n",
      "Higher.\n",
      "Lower.\n",
      "Lower.\n",
      "Lower.\n",
      "Higher.\n",
      "Lower.\n",
      "Correct! You guessed the number in 9 guesses.\n"
     ]
    }
   ],
   "source": [
    "guess_number_game()"
   ]
  }
 ],
 "metadata": {
  "kernelspec": {
   "display_name": "Python 3",
   "language": "python",
   "name": "python3"
  },
  "language_info": {
   "codemirror_mode": {
    "name": "ipython",
    "version": 3
   },
   "file_extension": ".py",
   "mimetype": "text/x-python",
   "name": "python",
   "nbconvert_exporter": "python",
   "pygments_lexer": "ipython3",
   "version": "3.11.3"
  }
 },
 "nbformat": 4,
 "nbformat_minor": 2
}
